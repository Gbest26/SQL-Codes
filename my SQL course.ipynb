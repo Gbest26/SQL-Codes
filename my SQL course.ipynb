{
 "cells": [
  {
   "cell_type": "markdown",
   "id": "3df3de23",
   "metadata": {},
   "source": [
    "# to create database, table and column"
   ]
  },
  {
   "cell_type": "code",
   "execution_count": null,
   "id": "520acf7a",
   "metadata": {},
   "outputs": [],
   "source": [
    "create database <name>\n",
    "use <database name>\n",
    "show database\n",
    "create tables <name(\n",
    "            name varchar(limit),\n",
    "            age\n",
    "            )>\n",
    "show tables\n",
    "show columns from <table name>"
   ]
  },
  {
   "cell_type": "markdown",
   "id": "36f9709c",
   "metadata": {},
   "source": [
    "# to use default name in place of null"
   ]
  },
  {
   "cell_type": "code",
   "execution_count": null,
   "id": "e1fbc1f2",
   "metadata": {},
   "outputs": [],
   "source": [
    "insert into cats(name, age)\n",
    "value ('Victoria', 12)"
   ]
  },
  {
   "cell_type": "markdown",
   "id": "bf313a25",
   "metadata": {},
   "source": [
    "# to prevent a null case in your table use"
   ]
  },
  {
   "cell_type": "code",
   "execution_count": null,
   "id": "7252cd04",
   "metadata": {},
   "outputs": [],
   "source": [
    "create tables <table name(\n",
    "name varchar(limit) not null,\n",
    "age int not null\n",
    ")>"
   ]
  },
  {
   "cell_type": "markdown",
   "id": "48885780",
   "metadata": {},
   "source": [
    "# to insert into a columns   ()"
   ]
  },
  {
   "cell_type": "code",
   "execution_count": null,
   "id": "d940b042",
   "metadata": {},
   "outputs": [],
   "source": [
    "create tables <table name(\n",
    "name varchar(limit) not null DEFAULT 'no name provided',\n",
    "age int not null DEFAULT 99\n",
    ")>"
   ]
  },
  {
   "cell_type": "markdown",
   "id": "9343f027",
   "metadata": {},
   "source": [
    "# creating a table with primary key"
   ]
  },
  {
   "cell_type": "code",
   "execution_count": null,
   "id": "9addfb26",
   "metadata": {},
   "outputs": [],
   "source": [
    "create table mycats(\n",
    "cats_id int not null auto_increment,\n",
    "name varchar(100),\n",
    "age int,\n",
    "primary key(cats_id));\n",
    "\n",
    "insert into mycats1 (name, age)\n",
    "values ('george', 21)"
   ]
  },
  {
   "cell_type": "markdown",
   "id": "6013b207",
   "metadata": {},
   "source": [
    "# how to update and delete data in database"
   ]
  },
  {
   "cell_type": "code",
   "execution_count": null,
   "id": "3e50cc8e",
   "metadata": {},
   "outputs": [],
   "source": [
    "update cats set breed = 'shorthair'\n",
    "where breed= 'Tabby'\n",
    "\n",
    "update cats set age = 14\n",
    "where name = 'Misty';\n",
    "\n",
    "delete from <table> where <columns_name>"
   ]
  },
  {
   "cell_type": "markdown",
   "id": "c77074c7",
   "metadata": {},
   "source": [
    "# string function"
   ]
  },
  {
   "cell_type": "code",
   "execution_count": null,
   "id": "cef1f038",
   "metadata": {},
   "outputs": [],
   "source": [
    "select concat(author_fname, ' ', author_lname)\n",
    "from book\n",
    "\n",
    "select substring(author_fname, 1, 3) \n",
    "from book\n",
    "\n",
    "select replace('Hello World', 'Hello', 'Zello')\n",
    "\n",
    "select reverse('Hello world')\n",
    "\n",
    "\n",
    "select char_length(author_fname)\n",
    "from book"
   ]
  },
  {
   "cell_type": "markdown",
   "id": "6ab54e90",
   "metadata": {},
   "source": [
    "# Advanced extraction"
   ]
  },
  {
   "cell_type": "code",
   "execution_count": null,
   "id": "fcf955fd",
   "metadata": {},
   "outputs": [],
   "source": [
    "select distinct author_fname, author_lname, release_year\n",
    "from book\n",
    "\n",
    "select distinct title, author_fname, author_lname, release_year \n",
    "from book\n",
    "where author_fname like '%da%'\n",
    "order by release_year\n",
    "\n",
    "select distinct title, author_fname, author_lname, release_year \n",
    "from book\n",
    "where title like '%\\%%'\n",
    "\n",
    "select distinct title, author_fname, author_lname, release_year \n",
    "from book\n",
    "where title like '%\\_%'"
   ]
  },
  {
   "cell_type": "markdown",
   "id": "aa496f8b",
   "metadata": {},
   "source": [
    "# Aggregate Function"
   ]
  },
  {
   "cell_type": "code",
   "execution_count": null,
   "id": "934243aa",
   "metadata": {},
   "outputs": [],
   "source": [
    "# count, sum, mean, max, avgerage\n",
    "\n",
    "select  count(author_fname)\n",
    "from book\n",
    "\n",
    "select title, concat(author_fname, ' ', author_lname), count(*)\n",
    "from books\n",
    "group by title, author_Lname, author_Fname\n",
    "\n",
    "select title, max(pages)\n",
    "from books\n",
    "group by title, pages\n",
    "order by pages desc\n",
    "limit 1;\n",
    "\n",
    "select author_lname, author_fname, sum(pages)\n",
    "from books\n",
    "group by pages, author_fname, author_lname\n",
    "\n",
    "select author_lname, author_fname, avg(release_year)/2, sum(release_year)\n",
    "from book\n",
    "group by author_fname, author_lname"
   ]
  },
  {
   "cell_type": "markdown",
   "id": "009eaa59",
   "metadata": {},
   "source": [
    "# logical operators"
   ]
  },
  {
   "cell_type": "code",
   "execution_count": 1,
   "id": "3faa95d1",
   "metadata": {
    "collapsed": true
   },
   "outputs": [
    {
     "ename": "SyntaxError",
     "evalue": "invalid syntax (1692166467.py, line 1)",
     "output_type": "error",
     "traceback": [
      "\u001b[1;36m  File \u001b[1;32m\"C:\\Users\\Gbest\\AppData\\Local\\Temp\\ipykernel_8356\\1692166467.py\"\u001b[1;36m, line \u001b[1;32m1\u001b[0m\n\u001b[1;33m    select *\u001b[0m\n\u001b[1;37m            ^\u001b[0m\n\u001b[1;31mSyntaxError\u001b[0m\u001b[1;31m:\u001b[0m invalid syntax\n"
     ]
    }
   ],
   "source": [
    "select *\n",
    "from book\n",
    "where title not like 'c%'\n",
    "\n",
    "select *\n",
    "from book\n",
    "where release_year > 2012\n",
    "\n",
    "select *\n",
    "from book\n",
    "where author_lname = 'Harris' and release_year > 2002\n",
    "\n",
    "select *\n",
    "from book\n",
    "where author_lname = 'Harris' or release_year  = 2004\n",
    "\n",
    "select *\n",
    "from book\n",
    "WHERE release_year between 2010 and 2015\n",
    "\n",
    "select title, concat(author_fname, ' ', author_lname) full_name, release_year\n",
    "from book\n",
    "where title like '%happier' and release_year > 2001 and\n",
    "release_year in(2002, 2004, 2006, 2008, 2010)"
   ]
  },
  {
   "cell_type": "markdown",
   "id": "af449675",
   "metadata": {},
   "source": [
    "# Relationships and Join"
   ]
  },
  {
   "cell_type": "code",
   "execution_count": null,
   "id": "4a9c6e56",
   "metadata": {},
   "outputs": [],
   "source": [
    "select first_name, \n",
    "last_name, \n",
    "customer_id, \n",
    "sum(amount),\n",
    "count(last_name)\n",
    "from customers\n",
    "join orders\n",
    "on customers.id = orders.customer_id\n",
    "group by orders.customer_id\n",
    "order by sum(amount)\n",
    "\n",
    "select first_name, \n",
    "last_name,\n",
    "ifnull(sum(amount), 0),\n",
    "count(last_name)\n",
    "from customers\n",
    "left join orders\n",
    "on customers.id = orders.customer_id\n",
    "group by customers.id\n",
    "order by sum(amount)"
   ]
  }
 ],
 "metadata": {
  "kernelspec": {
   "display_name": "Python 3 (ipykernel)",
   "language": "python",
   "name": "python3"
  },
  "language_info": {
   "codemirror_mode": {
    "name": "ipython",
    "version": 3
   },
   "file_extension": ".py",
   "mimetype": "text/x-python",
   "name": "python",
   "nbconvert_exporter": "python",
   "pygments_lexer": "ipython3",
   "version": "3.9.13"
  }
 },
 "nbformat": 4,
 "nbformat_minor": 5
}
